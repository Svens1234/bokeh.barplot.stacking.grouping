{
 "cells": [
  {
   "cell_type": "code",
   "execution_count": 1,
   "id": "daa166cb",
   "metadata": {},
   "outputs": [],
   "source": [
    "from bokeh.io import output_file, show\n",
    "from bokeh.models import ColumnDataSource, FactorRange\n",
    "from bokeh.plotting import figure"
   ]
  },
  {
   "cell_type": "code",
   "execution_count": 2,
   "id": "b045401e",
   "metadata": {},
   "outputs": [],
   "source": [
    "output_file(\"bar_stacked_grouped.html\")"
   ]
  },
  {
   "cell_type": "code",
   "execution_count": 3,
   "id": "f1308b65",
   "metadata": {},
   "outputs": [],
   "source": [
    "factors = [\n",
    "    (\"Q1\", \"jan\"), (\"Q1\", \"feb\"), (\"Q1\", \"mar\"),\n",
    "    (\"Q2\", \"apr\"), (\"Q2\", \"may\"), (\"Q2\", \"jun\"),\n",
    "    (\"Q3\", \"jul\"), (\"Q3\", \"aug\"), (\"Q3\", \"sep\"),\n",
    "    (\"Q4\", \"oct\"), (\"Q4\", \"nov\"), (\"Q4\", \"dec\"),\n",
    "\n",
    "]"
   ]
  },
  {
   "cell_type": "code",
   "execution_count": 4,
   "id": "984e817f",
   "metadata": {},
   "outputs": [],
   "source": [
    "regions = ['east', 'west']"
   ]
  },
  {
   "cell_type": "code",
   "execution_count": 5,
   "id": "f44bebea",
   "metadata": {},
   "outputs": [],
   "source": [
    "source = ColumnDataSource(data=dict(\n",
    "    x=factors,\n",
    "    east=[ 5, 5, 6, 5, 5, 4, 5, 6, 7, 8, 6, 9 ],\n",
    "    west=[ 5, 7, 9, 4, 5, 4, 7, 7, 7, 6, 6, 7 ],\n",
    "))"
   ]
  },
  {
   "cell_type": "code",
   "execution_count": 6,
   "id": "f7f3cc5d",
   "metadata": {},
   "outputs": [],
   "source": [
    "p = figure(x_range=FactorRange(*factors), height=250,\n",
    "           toolbar_location=None, tools=\"\")"
   ]
  },
  {
   "cell_type": "code",
   "execution_count": 7,
   "id": "f8af5b21",
   "metadata": {},
   "outputs": [
    {
     "data": {
      "text/plain": [
       "[GlyphRenderer(id='1028', ...), GlyphRenderer(id='1046', ...)]"
      ]
     },
     "execution_count": 7,
     "metadata": {},
     "output_type": "execute_result"
    }
   ],
   "source": [
    "p.vbar_stack(regions, x='x', width=0.9, alpha=0.5, color=[\"blue\", \"red\"], source=source,\n",
    "             legend_label=regions)"
   ]
  },
  {
   "cell_type": "code",
   "execution_count": 8,
   "id": "9d00d1ef",
   "metadata": {},
   "outputs": [],
   "source": [
    "p.y_range.start = 0\n",
    "p.y_range.end = 18\n",
    "p.x_range.range_padding = 0.1\n",
    "p.xaxis.major_label_orientation = 1\n",
    "p.xgrid.grid_line_color = None\n",
    "p.legend.location = \"top_center\"\n",
    "p.legend.orientation = \"horizontal\""
   ]
  },
  {
   "cell_type": "code",
   "execution_count": 9,
   "id": "96deb621",
   "metadata": {},
   "outputs": [],
   "source": [
    "show(p)"
   ]
  },
  {
   "cell_type": "code",
   "execution_count": null,
   "id": "f0c545af",
   "metadata": {},
   "outputs": [],
   "source": []
  }
 ],
 "metadata": {
  "kernelspec": {
   "display_name": "Python 3 (ipykernel)",
   "language": "python",
   "name": "python3"
  },
  "language_info": {
   "codemirror_mode": {
    "name": "ipython",
    "version": 3
   },
   "file_extension": ".py",
   "mimetype": "text/x-python",
   "name": "python",
   "nbconvert_exporter": "python",
   "pygments_lexer": "ipython3",
   "version": "3.8.7"
  }
 },
 "nbformat": 4,
 "nbformat_minor": 5
}
